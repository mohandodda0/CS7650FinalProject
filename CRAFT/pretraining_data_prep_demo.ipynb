{
 "cells": [
  {
   "cell_type": "markdown",
   "metadata": {},
   "source": [
    "# Demo of data conversion for CRAFT pre-training\n",
    "\n",
    "This notebook demonstrates how to process data from a ConvoKit Corpus for use in CRAFT pre-training. Because pre-training typically involves large amounts of data, the pre-training script does not read directly from the ConvoKit corpus (for efficiency reasons), so you need to first run this notebook to reformat the conversational data into a more compact JSON lines format."
   ]
  },
  {
   "cell_type": "code",
   "execution_count": 1,
   "metadata": {},
   "outputs": [],
   "source": [
    "import json\n",
    "import os\n",
    "from convokit import Corpus, download"
   ]
  },
  {
   "cell_type": "markdown",
   "metadata": {},
   "source": [
    "As a simple toy example, we will convert ConvoKit's version of the famous Switchboard Corpus. If you want to use this notebook for your own training data, simply change the following cell to load your desired Corpus."
   ]
  },
  {
   "cell_type": "code",
   "execution_count": 2,
   "metadata": {},
   "outputs": [
    {
     "name": "stdout",
     "output_type": "stream",
     "text": [
      "Downloading switchboard-corpus to /home/jonathan/.convokit/downloads/switchboard-corpus\n",
      "Downloading switchboard-corpus from http://zissou.infosci.cornell.edu/convokit/datasets/switchboard-corpus/switchboard-corpus.zip (5.8MB)... Done\n"
     ]
    }
   ],
   "source": [
    "corpus = Corpus(filename=download(\"switchboard-corpus\"))"
   ]
  },
  {
   "cell_type": "markdown",
   "metadata": {},
   "source": [
    "## Output format\n",
    "\n",
    "The pre-training script reads conversational data in a JSON lines format. Each line is a *dialog*, or a linear chain of replies. Each dialog is represented as a list of dicts (JSON objects) where each dict is a comment/utterance in the dialog, and the order of utterances in the list is determined by order of replies, such that each utterance is the reply to the one right before it. The utterance dict is formatted as follows:\n",
    "```\n",
    "{'text': '<utterance text here>'}\n",
    "```\n",
    "The reason the utterances are dicts and not strings is so that we can support incorporating utterance metadata in the future, e.g., for some future extension of CRAFT.\n",
    "\n",
    "The following loop converts ConvoKit Conversations into this format and writes the resulting JSON lines to disk."
   ]
  },
  {
   "cell_type": "code",
   "execution_count": 3,
   "metadata": {},
   "outputs": [],
   "source": [
    "corpus_name = \"switchboard\" # or set your own custom corpus name\n",
    "if not os.path.exists(os.path.join(\"nn_input_data\", corpus_name)):\n",
    "    os.makedirs(os.path.join(\"nn_input_data\", corpus_name))\n",
    "with open(os.path.join(\"nn_input_data\", corpus_name, \"train_processed_dialogs.txt\"), \"w\") as fp:\n",
    "    for convo in corpus.iter_conversations():\n",
    "        # use Corpus.get_root_to_leaf_paths() to get linear reply chains from the conversation\n",
    "        for dialog in convo.get_root_to_leaf_paths():\n",
    "            dialog_json = [{'text': utt.text} for utt in dialog]\n",
    "            fp.write(json.dumps(dialog_json))\n",
    "            fp.write('\\n')"
   ]
  }
 ],
 "metadata": {
  "kernelspec": {
   "display_name": "Python 3",
   "language": "python",
   "name": "python3"
  },
  "language_info": {
   "codemirror_mode": {
    "name": "ipython",
    "version": 3
   },
   "file_extension": ".py",
   "mimetype": "text/x-python",
   "name": "python",
   "nbconvert_exporter": "python",
   "pygments_lexer": "ipython3",
   "version": "3.8.0"
  }
 },
 "nbformat": 4,
 "nbformat_minor": 4
}
